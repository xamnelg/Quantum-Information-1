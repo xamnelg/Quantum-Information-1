{
 "cells": [
  {
   "cell_type": "code",
   "execution_count": 13,
   "id": "5c19208b-750b-4683-89db-c81d164db919",
   "metadata": {},
   "outputs": [],
   "source": [
    "import numpy as np\n",
    "\n",
    "Z = np.matrix('1 0; 0 -1')\n",
    "X = np.matrix('0 1; 1 0')\n",
    "Y = np.matrix('0 0-1j; 0+1j 0')"
   ]
  },
  {
   "cell_type": "code",
   "execution_count": 24,
   "id": "2c6cf495-6f0c-47ab-ad84-aeb481b936f4",
   "metadata": {},
   "outputs": [
    {
     "name": "stdout",
     "output_type": "stream",
     "text": [
      "X = \n",
      " [[0 1]\n",
      " [1 0]]\n",
      "Y = \n",
      " [[0.+0.j 0.-1.j]\n",
      " [0.+1.j 0.+0.j]]\n",
      "Z = \n",
      " [[ 1  0]\n",
      " [ 0 -1]]\n"
     ]
    }
   ],
   "source": [
    "print(\"X = \\n\" , X)\n",
    "print(\"Y = \\n\" , Y)\n",
    "print(\"Z = \\n\" , Z)"
   ]
  },
  {
   "cell_type": "code",
   "execution_count": 27,
   "id": "80846f66-aa48-4979-b2b9-25e72e6ed18d",
   "metadata": {},
   "outputs": [
    {
     "name": "stdout",
     "output_type": "stream",
     "text": [
      "norm: \n",
      " (3.872983346207417+0j)\n"
     ]
    }
   ],
   "source": [
    "c = np.array([1+1j, 3-2j])\n",
    "print(\"norm: \\n\", np.sqrt(np.dot(np.conjugate(c).T, c)))"
   ]
  },
  {
   "cell_type": "code",
   "execution_count": 26,
   "id": "4576b51c-e37e-4c8e-be85-53770cf24e9e",
   "metadata": {},
   "outputs": [
    {
     "name": "stdout",
     "output_type": "stream",
     "text": [
      "eigenvalues: \n",
      " [1.-1.04672831e-16j 4.+1.04672831e-16j]\n",
      "eigenvectors: \n",
      " [[ 0.81649658+0.j          0.40824829-0.40824829j]\n",
      " [-0.40824829-0.40824829j  0.81649658+0.j        ]]\n"
     ]
    }
   ],
   "source": [
    "H = np.matrix('2 1-1j; 1+1j 3')\n",
    "eigs = np.linalg.eig(H)\n",
    "print(\"eigenvalues: \\n\", eigs.eigenvalues)\n",
    "print(\"eigenvectors: \\n\", eigs.eigenvectors)"
   ]
  },
  {
   "cell_type": "code",
   "execution_count": null,
   "id": "a81b69cd-f424-47b7-901a-49b7bd810f58",
   "metadata": {},
   "outputs": [],
   "source": []
  }
 ],
 "metadata": {
  "kernelspec": {
   "display_name": "Python 3 (ipykernel)",
   "language": "python",
   "name": "python3"
  },
  "language_info": {
   "codemirror_mode": {
    "name": "ipython",
    "version": 3
   },
   "file_extension": ".py",
   "mimetype": "text/x-python",
   "name": "python",
   "nbconvert_exporter": "python",
   "pygments_lexer": "ipython3",
   "version": "3.12.4"
  }
 },
 "nbformat": 4,
 "nbformat_minor": 5
}
