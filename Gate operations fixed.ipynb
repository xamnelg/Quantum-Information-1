{
 "cells": [
  {
   "cell_type": "markdown",
   "id": "15c75b5e-77b2-4152-bfc2-d5d3fb821120",
   "metadata": {},
   "source": [
    "# Introduction to Quantum Circuits \n",
    "\n",
    "Through this notebook, we learn how to execute a basic command using Qiskit, a python package for quantum computation and simulation provided by IBM. \n",
    "\n",
    "Copy right: Prof. Ikeda at UMass Boston (kazuki.ikeda@umb.edu)\n",
    "\n",
    "If you have not finished Linear Algebra yet, go to <a><a href=\"https://github.com/IKEDAKAZUKI/QIS-Lectures/blob/main/Linear%20Algebra.ipynb\"> Linear Algebra.ipynb</a>."
   ]
  },
  {
   "cell_type": "markdown",
   "id": "265ce978-4fe9-4102-9c39-ac80aac72c5d",
   "metadata": {},
   "source": [
    "<font size=\"4\">\n",
    "<div style=\"background-color: #FFFF99; padding: 10px;\">\n",
    "<h3>Table of Contents</h3>\n",
    "    \n",
    "1. [Install Qiskit](#qiskit) \n",
    "\n",
    "2. [Implementation of a qubit](#implementation) \n",
    "   \n",
    "3. [Gate operations to one qubit](#gate_operation-1)\n",
    "   \n",
    "    [Exercise 1](#exercise-1): Measurment\n",
    "\n",
    "4. [Rotation of one qubit](#rotation1)\n",
    "\n",
    "    [Exercise 2](#exercise-2): 1 qubit rotation\n",
    "\n",
    "5. [Tensor products](#tensor)\n",
    "\n",
    "    [Exercise 3](#exercise-3): Tensor products\n",
    "\n",
    "6. [Gate operations to two qubits](#gate_operation-2)\n",
    "\n",
    "    [Exercise 4](#exercise-4): 2 qubit operation (CNOT, Bell states)\n",
    "</div>\n",
    "</font>"
   ]
  },
  {
   "cell_type": "markdown",
   "id": "47a89338-aa92-492f-ad72-623a20a7e523",
   "metadata": {},
   "source": [
    "<a id=\"qiskit\"></a>\n",
    "# Install Qiskit "
   ]
  },
  {
   "cell_type": "markdown",
   "id": "7dac7c42-916b-48bd-86df-4edb18dd4ff4",
   "metadata": {},
   "source": [
    "If Qiskit is not installed, please install it."
   ]
  },
  {
   "cell_type": "code",
   "execution_count": 1,
   "id": "66e86aae-5055-45fd-b1fb-49d84d53347f",
   "metadata": {},
   "outputs": [
    {
     "name": "stdout",
     "output_type": "stream",
     "text": [
      "Collecting qiskit\n",
      "  Using cached qiskit-1.2.1-cp38-abi3-manylinux_2_17_aarch64.manylinux2014_aarch64.whl.metadata (12 kB)\n",
      "Collecting rustworkx>=0.15.0 (from qiskit)\n",
      "  Using cached rustworkx-0.15.1-cp38-abi3-manylinux_2_17_aarch64.manylinux2014_aarch64.whl.metadata (9.9 kB)\n",
      "Collecting numpy<3,>=1.17 (from qiskit)\n",
      "  Using cached numpy-2.1.1-cp312-cp312-manylinux_2_17_aarch64.manylinux2014_aarch64.whl.metadata (62 kB)\n",
      "Collecting scipy>=1.5 (from qiskit)\n",
      "  Using cached scipy-1.14.1-cp312-cp312-manylinux_2_17_aarch64.manylinux2014_aarch64.whl.metadata (113 kB)\n",
      "Collecting sympy>=1.3 (from qiskit)\n",
      "  Using cached sympy-1.13.2-py3-none-any.whl.metadata (12 kB)\n",
      "Collecting dill>=0.3 (from qiskit)\n",
      "  Using cached dill-0.3.8-py3-none-any.whl.metadata (10 kB)\n",
      "Requirement already satisfied: python-dateutil>=2.8.0 in ./miniconda3/envs/qi_env/lib/python3.12/site-packages (from qiskit) (2.9.0.post0)\n",
      "Collecting stevedore>=3.0.0 (from qiskit)\n",
      "  Using cached stevedore-5.3.0-py3-none-any.whl.metadata (2.3 kB)\n",
      "Requirement already satisfied: typing-extensions in ./miniconda3/envs/qi_env/lib/python3.12/site-packages (from qiskit) (4.11.0)\n",
      "Collecting symengine>=0.11 (from qiskit)\n",
      "  Using cached symengine-0.11.0-cp312-cp312-manylinux_2_17_aarch64.manylinux2014_aarch64.whl.metadata (1.2 kB)\n",
      "Requirement already satisfied: six>=1.5 in ./miniconda3/envs/qi_env/lib/python3.12/site-packages (from python-dateutil>=2.8.0->qiskit) (1.16.0)\n",
      "Collecting pbr>=2.0.0 (from stevedore>=3.0.0->qiskit)\n",
      "  Using cached pbr-6.1.0-py2.py3-none-any.whl.metadata (3.4 kB)\n",
      "Collecting mpmath<1.4,>=1.1.0 (from sympy>=1.3->qiskit)\n",
      "  Using cached mpmath-1.3.0-py3-none-any.whl.metadata (8.6 kB)\n",
      "Using cached qiskit-1.2.1-cp38-abi3-manylinux_2_17_aarch64.manylinux2014_aarch64.whl (4.6 MB)\n",
      "Using cached dill-0.3.8-py3-none-any.whl (116 kB)\n",
      "Using cached numpy-2.1.1-cp312-cp312-manylinux_2_17_aarch64.manylinux2014_aarch64.whl (13.7 MB)\n",
      "Using cached rustworkx-0.15.1-cp38-abi3-manylinux_2_17_aarch64.manylinux2014_aarch64.whl (1.9 MB)\n",
      "Using cached scipy-1.14.1-cp312-cp312-manylinux_2_17_aarch64.manylinux2014_aarch64.whl (35.3 MB)\n",
      "Using cached stevedore-5.3.0-py3-none-any.whl (49 kB)\n",
      "Using cached symengine-0.11.0-cp312-cp312-manylinux_2_17_aarch64.manylinux2014_aarch64.whl (45.9 MB)\n",
      "Using cached sympy-1.13.2-py3-none-any.whl (6.2 MB)\n",
      "Using cached mpmath-1.3.0-py3-none-any.whl (536 kB)\n",
      "Using cached pbr-6.1.0-py2.py3-none-any.whl (108 kB)\n",
      "Installing collected packages: mpmath, sympy, symengine, pbr, numpy, dill, stevedore, scipy, rustworkx, qiskit\n",
      "Successfully installed dill-0.3.8 mpmath-1.3.0 numpy-2.1.1 pbr-6.1.0 qiskit-1.2.1 rustworkx-0.15.1 scipy-1.14.1 stevedore-5.3.0 symengine-0.11.0 sympy-1.13.2\n",
      "Note: you may need to restart the kernel to use updated packages.\n"
     ]
    }
   ],
   "source": [
    "pip install qiskit"
   ]
  },
  {
   "cell_type": "code",
   "execution_count": 3,
   "id": "c3da530f-af99-4caa-9044-e7db53c311ca",
   "metadata": {},
   "outputs": [
    {
     "name": "stdout",
     "output_type": "stream",
     "text": [
      "Collecting matplotlib\n",
      "  Using cached matplotlib-3.9.2-cp312-cp312-manylinux_2_17_aarch64.manylinux2014_aarch64.whl.metadata (11 kB)\n",
      "Collecting contourpy>=1.0.1 (from matplotlib)\n",
      "  Using cached contourpy-1.3.0-cp312-cp312-manylinux_2_17_aarch64.manylinux2014_aarch64.whl.metadata (5.4 kB)\n",
      "Collecting cycler>=0.10 (from matplotlib)\n",
      "  Using cached cycler-0.12.1-py3-none-any.whl.metadata (3.8 kB)\n",
      "Collecting fonttools>=4.22.0 (from matplotlib)\n",
      "  Using cached fonttools-4.53.1-cp312-cp312-manylinux_2_17_aarch64.manylinux2014_aarch64.whl.metadata (162 kB)\n",
      "Collecting kiwisolver>=1.3.1 (from matplotlib)\n",
      "  Using cached kiwisolver-1.4.7-cp312-cp312-manylinux_2_17_aarch64.manylinux2014_aarch64.whl.metadata (6.3 kB)\n",
      "Requirement already satisfied: numpy>=1.23 in ./miniconda3/envs/qi_env/lib/python3.12/site-packages (from matplotlib) (2.1.1)\n",
      "Requirement already satisfied: packaging>=20.0 in ./miniconda3/envs/qi_env/lib/python3.12/site-packages (from matplotlib) (24.1)\n",
      "Collecting pillow>=8 (from matplotlib)\n",
      "  Using cached pillow-10.4.0-cp312-cp312-manylinux_2_28_aarch64.whl.metadata (9.2 kB)\n",
      "Collecting pyparsing>=2.3.1 (from matplotlib)\n",
      "  Using cached pyparsing-3.1.4-py3-none-any.whl.metadata (5.1 kB)\n",
      "Requirement already satisfied: python-dateutil>=2.7 in ./miniconda3/envs/qi_env/lib/python3.12/site-packages (from matplotlib) (2.9.0.post0)\n",
      "Requirement already satisfied: six>=1.5 in ./miniconda3/envs/qi_env/lib/python3.12/site-packages (from python-dateutil>=2.7->matplotlib) (1.16.0)\n",
      "Using cached matplotlib-3.9.2-cp312-cp312-manylinux_2_17_aarch64.manylinux2014_aarch64.whl (8.2 MB)\n",
      "Using cached contourpy-1.3.0-cp312-cp312-manylinux_2_17_aarch64.manylinux2014_aarch64.whl (303 kB)\n",
      "Using cached cycler-0.12.1-py3-none-any.whl (8.3 kB)\n",
      "Using cached fonttools-4.53.1-cp312-cp312-manylinux_2_17_aarch64.manylinux2014_aarch64.whl (4.8 MB)\n",
      "Using cached kiwisolver-1.4.7-cp312-cp312-manylinux_2_17_aarch64.manylinux2014_aarch64.whl (1.5 MB)\n",
      "Using cached pillow-10.4.0-cp312-cp312-manylinux_2_28_aarch64.whl (4.4 MB)\n",
      "Using cached pyparsing-3.1.4-py3-none-any.whl (104 kB)\n",
      "Installing collected packages: pyparsing, pillow, kiwisolver, fonttools, cycler, contourpy, matplotlib\n",
      "Successfully installed contourpy-1.3.0 cycler-0.12.1 fonttools-4.53.1 kiwisolver-1.4.7 matplotlib-3.9.2 pillow-10.4.0 pyparsing-3.1.4\n",
      "Note: you may need to restart the kernel to use updated packages.\n"
     ]
    }
   ],
   "source": [
    "pip install matplotlib"
   ]
  },
  {
   "cell_type": "code",
   "execution_count": 9,
   "id": "d5e2e132-eb00-4fc4-a7be-b13fa243638a",
   "metadata": {},
   "outputs": [
    {
     "name": "stdout",
     "output_type": "stream",
     "text": [
      "Collecting qiskit_aer\n",
      "  Using cached qiskit_aer-0.15.0-cp312-cp312-manylinux_2_17_aarch64.manylinux2014_aarch64.whl.metadata (8.0 kB)\n",
      "Requirement already satisfied: qiskit>=1.1.0 in ./miniconda3/envs/qi_env/lib/python3.12/site-packages (from qiskit_aer) (1.2.1)\n",
      "Requirement already satisfied: numpy>=1.16.3 in ./miniconda3/envs/qi_env/lib/python3.12/site-packages (from qiskit_aer) (2.1.1)\n",
      "Requirement already satisfied: scipy>=1.0 in ./miniconda3/envs/qi_env/lib/python3.12/site-packages (from qiskit_aer) (1.14.1)\n",
      "Requirement already satisfied: psutil>=5 in ./miniconda3/envs/qi_env/lib/python3.12/site-packages (from qiskit_aer) (5.9.0)\n",
      "Requirement already satisfied: rustworkx>=0.15.0 in ./miniconda3/envs/qi_env/lib/python3.12/site-packages (from qiskit>=1.1.0->qiskit_aer) (0.15.1)\n",
      "Requirement already satisfied: sympy>=1.3 in ./miniconda3/envs/qi_env/lib/python3.12/site-packages (from qiskit>=1.1.0->qiskit_aer) (1.13.2)\n",
      "Requirement already satisfied: dill>=0.3 in ./miniconda3/envs/qi_env/lib/python3.12/site-packages (from qiskit>=1.1.0->qiskit_aer) (0.3.8)\n",
      "Requirement already satisfied: python-dateutil>=2.8.0 in ./miniconda3/envs/qi_env/lib/python3.12/site-packages (from qiskit>=1.1.0->qiskit_aer) (2.9.0.post0)\n",
      "Requirement already satisfied: stevedore>=3.0.0 in ./miniconda3/envs/qi_env/lib/python3.12/site-packages (from qiskit>=1.1.0->qiskit_aer) (5.3.0)\n",
      "Requirement already satisfied: typing-extensions in ./miniconda3/envs/qi_env/lib/python3.12/site-packages (from qiskit>=1.1.0->qiskit_aer) (4.11.0)\n",
      "Requirement already satisfied: symengine>=0.11 in ./miniconda3/envs/qi_env/lib/python3.12/site-packages (from qiskit>=1.1.0->qiskit_aer) (0.11.0)\n",
      "Requirement already satisfied: six>=1.5 in ./miniconda3/envs/qi_env/lib/python3.12/site-packages (from python-dateutil>=2.8.0->qiskit>=1.1.0->qiskit_aer) (1.16.0)\n",
      "Requirement already satisfied: pbr>=2.0.0 in ./miniconda3/envs/qi_env/lib/python3.12/site-packages (from stevedore>=3.0.0->qiskit>=1.1.0->qiskit_aer) (6.1.0)\n",
      "Requirement already satisfied: mpmath<1.4,>=1.1.0 in ./miniconda3/envs/qi_env/lib/python3.12/site-packages (from sympy>=1.3->qiskit>=1.1.0->qiskit_aer) (1.3.0)\n",
      "Using cached qiskit_aer-0.15.0-cp312-cp312-manylinux_2_17_aarch64.manylinux2014_aarch64.whl (6.4 MB)\n",
      "Installing collected packages: qiskit_aer\n",
      "Successfully installed qiskit_aer-0.15.0\n",
      "Note: you may need to restart the kernel to use updated packages.\n"
     ]
    }
   ],
   "source": [
    "pip install qiskit_aer"
   ]
  },
  {
   "cell_type": "code",
   "execution_count": 13,
   "id": "0572e602-1d3c-4786-8d09-99816287f6e8",
   "metadata": {},
   "outputs": [
    {
     "name": "stdout",
     "output_type": "stream",
     "text": [
      "Collecting pylatexenc\n",
      "  Using cached pylatexenc-2.10-py3-none-any.whl\n",
      "Installing collected packages: pylatexenc\n",
      "Successfully installed pylatexenc-2.10\n",
      "Note: you may need to restart the kernel to use updated packages.\n"
     ]
    }
   ],
   "source": [
    "pip install pylatexenc"
   ]
  },
  {
   "cell_type": "code",
   "execution_count": 28,
   "id": "40edb13b-4352-4f15-b162-d37885f11d0a",
   "metadata": {},
   "outputs": [],
   "source": [
    "import numpy as np\n",
    "import matplotlib.pyplot as plt \n",
    "from qiskit import * #qiskit\n",
    "from qiskit.visualization import plot_histogram, plot_bloch_multivector, array_to_latex\n",
    "#from qiskit.extensions import Initialize\n",
    "from qiskit import QuantumCircuit, QuantumRegister, transpile, assemble#, execute, Aer, BasicAer\n",
    "from qiskit_aer import Aer\n",
    "from qiskit.quantum_info import random_statevector\n",
    "from qiskit.quantum_info import partial_trace, entropy\n",
    "import qiskit.quantum_info as qi\n",
    "\n",
    "from IPython.display import HTML, display\n",
    "#import ipywidgets as widgets"
   ]
  },
  {
   "cell_type": "markdown",
   "id": "f22b5721-eec4-44d3-b607-4daa2bb1fa63",
   "metadata": {},
   "source": [
    "Here we use a quantum simulator"
   ]
  },
  {
   "cell_type": "code",
   "execution_count": 6,
   "id": "e53b2a3c-cee6-4da0-b270-add97961e4c8",
   "metadata": {},
   "outputs": [],
   "source": [
    "simulator = Aer.get_backend('qasm_simulator')"
   ]
  },
  {
   "cell_type": "markdown",
   "id": "d62dea29-9fd3-46eb-9a3d-19535ac5ac23",
   "metadata": {},
   "source": [
    "<a id=\"implementation\"></a>\n",
    "# Implementation of a qubit"
   ]
  },
  {
   "cell_type": "markdown",
   "id": "db3e0bf9-f630-416d-be3a-94c7835458b3",
   "metadata": {},
   "source": [
    "As a trivial example, we create a single qubit state $|0\\rangle$, by the following circuit"
   ]
  },
  {
   "cell_type": "code",
   "execution_count": 3,
   "id": "c6a5d999-37ff-450c-99fa-65bccb9a8128",
   "metadata": {},
   "outputs": [
    {
     "data": {
      "image/png": "[encoded data removed]",
      "text/plain": [
       "<Figure size 161.878x200.667 with 1 Axes>"
      ]
     },
     "execution_count": 3,
     "metadata": {},
     "output_type": "execute_result"
    }
   ],
   "source": [
    "n_qubit = 1\n",
    "qr0 = QuantumRegister(n_qubit)\n",
    "cr0 = ClassicalRegister(n_qubit) #classical register to store resulting bits\n",
    "qc0 = QuantumCircuit(qr0,cr0) #quantum circuit with quantum and classical registers\n",
    "\n",
    "qc0.draw('mpl')"
   ]
  },
  {
   "cell_type": "markdown",
   "id": "96a9e3cf-4b94-49a3-b521-bf94da6d290c",
   "metadata": {},
   "source": [
    "Confirm that the state is generated successfully, by measuring the state.\n",
    "In the following code, \"shots\" refer to the number of times a quantum circuit is run.\n",
    "In our case, it simply means we measure the state $|0\\rangle$ 1000 times. \n",
    "\n",
    "Since this is a simulator, there is no noize. Therefore the same outcome 0 will be generated always. "
   ]
  },
  {
   "cell_type": "code",
   "execution_count": 22,
   "id": "8ef130c0-a5df-4a10-bbf9-0fcc8fa7e199",
   "metadata": {},
   "outputs": [
    {
     "data": {
      "image/png": "[encoded data removed]",
      "text/plain": [
       "<Figure size 640x480 with 1 Axes>"
      ]
     },
     "execution_count": 22,
     "metadata": {},
     "output_type": "execute_result"
    }
   ],
   "source": [
    "\n",
    "qc0.measure(qr0,cr0)\n",
    "\n",
    "# shots is number of execution\n",
    "shots=1000\n",
    "\n",
    "# execute the circuit\n",
    "temp_circuit = transpile(qc0, simulator, shots)\n",
    "job = simulator.run(temp_circuit)\n",
    "\n",
    "# get a result\n",
    "result = job.result() \n",
    "\n",
    "# get counts to obtain each bit string\n",
    "counts = result.get_counts(qc0) \n",
    "\n",
    "# plot histogram\n",
    "plot_histogram(counts) "
   ]
  },
  {
   "cell_type": "markdown",
   "id": "927463be-be65-4e4a-b4b3-bb07a70b437e",
   "metadata": {},
   "source": [
    "<a id=\"gate_operation-1\"></a>\n",
    "# Gate operations to one qubit."
   ]
  },
  {
   "cell_type": "markdown",
   "id": "9c8f4704-0630-420a-955c-df22ee036930",
   "metadata": {},
   "source": [
    "<a id=\"hadamard\"></a>\n",
    "Let $|0\\rangle$ be our initial state and apply a unitary gate $U$ to it, by which the intial state is mapped to a state $U|0\\rangle$. \n",
    "\n",
    "For example, we can create a state $$\\frac{|0\\rangle+|1\\rangle}{\\sqrt{2}}$$ by using an <b>Hadamard operator</b> $$H=\\frac{1}{\\sqrt{2}}\\begin{pmatrix}1&1\\\\1&-1\\end{pmatrix}$$"
   ]
  },
  {
   "cell_type": "markdown",
   "id": "40c81de2-0f85-4a71-9dea-043240940b59",
   "metadata": {},
   "source": [
    "In fact, we can check that \n",
    "$$H|0\\rangle=\\frac{1}{\\sqrt{2}}\\begin{pmatrix}1&1\\\\1&-1\\end{pmatrix}\\begin{pmatrix}1\\\\0\\end{pmatrix}=\\frac{1}{\\sqrt{2}}\\begin{pmatrix}1\\\\1\\end{pmatrix}=\\frac{|0\\rangle+|1\\rangle}{\\sqrt{2}}$$\n"
   ]
  },
  {
   "cell_type": "markdown",
   "id": "7d0848a6-7766-4354-b256-746abe0b3f22",
   "metadata": {},
   "source": [
    "Now let's implemente this operation. "
   ]
  },
  {
   "cell_type": "code",
   "execution_count": 10,
   "id": "ae9fa486-d091-4dbc-8bbb-68b831fe6d11",
   "metadata": {},
   "outputs": [
    {
     "data": {
      "image/png": "[encoded data removed]",
      "text/plain": [
       "<Figure size 203.885x200.667 with 1 Axes>"
      ]
     },
     "execution_count": 10,
     "metadata": {},
     "output_type": "execute_result"
    }
   ],
   "source": [
    "n_qubit = 1\n",
    "qr1 = QuantumRegister(n_qubit)\n",
    "cr1 = ClassicalRegister(n_qubit) #classical register to store resulting bits\n",
    "qc1 = QuantumCircuit(qr1,cr1) #quantum circuit with quantum and classical registers\n",
    "\n",
    "qc1.h(qr1[0])\n",
    "\n",
    "qc1.draw('mpl')"
   ]
  },
  {
   "cell_type": "markdown",
   "id": "904678f9-1a0f-4768-9cd8-a936d62b4dfa",
   "metadata": {},
   "source": [
    "Let's see what we will get by measuring this circuit. \n",
    "Since we have a <b>superposition</b> of $|0\\rangle$ and $|1\\rangle$ states $\\left(|\\psi\\rangle=\\frac{|0\\rangle+|1\\rangle}{\\sqrt{2}}\\right)$, the histgram of the measurment results is determinded by the probability distributions of the states:  \n",
    "$$Prob(0)=|\\langle0|\\psi\\rangle|^2=\\frac{1}{2}$$\n",
    "$$Prob(1)=|\\langle1|\\psi\\rangle|^2=\\frac{1}{2}$$\n",
    "\n",
    "We can confirm this by measuring the state $|\\psi\\rangle$ many times. The larger \"shots\" becomes, the smaller the statistical error becomes: 0 and 1 come out with equal probability.  "
   ]
  },
  {
   "cell_type": "code",
   "execution_count": 30,
   "id": "0470c246-c12a-4dd9-a300-cd2837b7f334",
   "metadata": {},
   "outputs": [
    {
     "data": {
      "image/png": "[encoded data removed]",
      "text/plain": [
       "<Figure size 640x480 with 1 Axes>"
      ]
     },
     "execution_count": 30,
     "metadata": {},
     "output_type": "execute_result"
    }
   ],
   "source": [
    "qc1.measure(qr1,cr1)\n",
    "\n",
    "# shots is number of execution\n",
    "shots=10000\n",
    "\n",
    "# execute the circuit\n",
    "temp_circuit = transpile(qc1, simulator) \n",
    "job = simulator.run(temp_circuit, shots = shots)\n",
    "\n",
    "# get a result\n",
    "result = job.result() \n",
    "\n",
    "# get counts to obtain each bit string\n",
    "counts = result.get_counts(qc1) \n",
    "\n",
    "\n",
    "# plot histogram\n",
    "plot_histogram(counts) "
   ]
  },
  {
   "cell_type": "markdown",
   "id": "3e3df4f5-f339-44cc-aedf-cff32c2609c2",
   "metadata": {},
   "source": [
    "<a id=\"exercise-1\"></a>\n",
    "## Exercise 1\n",
    "Change shots, say 10, 100, 1000, 10000 and plot histograms with different shots. "
   ]
  },
  {
   "cell_type": "code",
   "execution_count": 31,
   "id": "f912914c-7ff2-4281-8be1-dc8799fd4f71",
   "metadata": {},
   "outputs": [
    {
     "data": {
      "image/png": "[encoded data removed]",
      "text/plain": [
       "<Figure size 640x480 with 1 Axes>"
      ]
     },
     "execution_count": 31,
     "metadata": {},
     "output_type": "execute_result"
    }
   ],
   "source": [
    "qc1.measure(qr1,cr1)\n",
    "\n",
    "# shots is number of execution\n",
    "shots=10\n",
    "\n",
    "# execute the circuit\n",
    "temp_circuit = transpile(qc1, simulator, shots) \n",
    "job = simulator.run(temp_circuit, shots = shots)\n",
    "\n",
    "# get a result\n",
    "result = job.result() \n",
    "\n",
    "# get counts to obtain each bit string\n",
    "counts = result.get_counts(qc1) \n",
    "\n",
    "\n",
    "# plot histogram\n",
    "plot_histogram(counts) "
   ]
  },
  {
   "cell_type": "code",
   "execution_count": 32,
   "id": "4111dd96-d176-403e-b5bf-526b99cb411c",
   "metadata": {},
   "outputs": [
    {
     "data": {
      "image/png": "[encoded data removed]",
      "text/plain": [
       "<Figure size 640x480 with 1 Axes>"
      ]
     },
     "execution_count": 32,
     "metadata": {},
     "output_type": "execute_result"
    }
   ],
   "source": [
    "qc1.measure(qr1,cr1)\n",
    "\n",
    "# shots is number of execution\n",
    "shots=100\n",
    "\n",
    "# execute the circuit\n",
    "temp_circuit = transpile(qc1, simulator, shots) \n",
    "job = simulator.run(temp_circuit, shots = shots)\n",
    "\n",
    "# get a result\n",
    "result = job.result() \n",
    "\n",
    "# get counts to obtain each bit string\n",
    "counts = result.get_counts(qc1) \n",
    "\n",
    "\n",
    "# plot histogram\n",
    "plot_histogram(counts) "
   ]
  },
  {
   "cell_type": "code",
   "execution_count": 15,
   "id": "9f7bf823-719b-494b-a4c8-7ed4040082d9",
   "metadata": {},
   "outputs": [
    {
     "data": {
      "image/png": "[encoded data removed]",
      "text/plain": [
       "<Figure size 640x480 with 1 Axes>"
      ]
     },
     "execution_count": 15,
     "metadata": {},
     "output_type": "execute_result"
    }
   ],
   "source": [
    "qc1.measure(qr1,cr1)\n",
    "\n",
    "# shots is number of execution\n",
    "shots=1000\n",
    "\n",
    "# execute the circuit\n",
    "temp_circuit = transpile(qc1, simulator, shots) \n",
    "job = simulator.run(temp_circuit)\n",
    "\n",
    "# get a result\n",
    "result = job.result() \n",
    "\n",
    "# get counts to obtain each bit string\n",
    "counts = result.get_counts(qc1) \n",
    "\n",
    "\n",
    "# plot histogram\n",
    "plot_histogram(counts) "
   ]
  },
  {
   "cell_type": "code",
   "execution_count": 16,
   "id": "be7a89ae-a8de-4a89-a745-98058c3b7590",
   "metadata": {},
   "outputs": [
    {
     "data": {
      "image/png": "[encoded data removed]",
      "text/plain": [
       "<Figure size 640x480 with 1 Axes>"
      ]
     },
     "execution_count": 16,
     "metadata": {},
     "output_type": "execute_result"
    }
   ],
   "source": [
    "qc1.measure(qr1,cr1)\n",
    "\n",
    "# shots is number of execution\n",
    "shots=10000\n",
    "\n",
    "# execute the circuit\n",
    "temp_circuit = transpile(qc1, simulator, shots) \n",
    "job = simulator.run(temp_circuit)\n",
    "\n",
    "# get a result\n",
    "result = job.result() \n",
    "\n",
    "# get counts to obtain each bit string\n",
    "counts = result.get_counts(qc1) \n",
    "\n",
    "\n",
    "# plot histogram\n",
    "plot_histogram(counts) "
   ]
  },
  {
   "cell_type": "markdown",
   "id": "145dcb32-edb9-46ff-a702-83b32e9764c4",
   "metadata": {},
   "source": [
    "<a id=\"rotation1\"></a>\n",
    "# Rotation of one qubit"
   ]
  },
  {
   "cell_type": "markdown",
   "id": "87d52b4f-f1a8-424a-87b4-60cc4e6a68b7",
   "metadata": {},
   "source": [
    "A general one qubit state is expressed by a linear combination\n",
    "$$|\\psi\\rangle=\\alpha|0\\rangle+\\beta|1\\rangle,$$\n",
    "where $\\alpha$ and $\\beta$ are complex numbers such that $|\\alpha|^2+|\\beta|^2=1$. By measuring this state, one gets 0 with probability $|\\alpha|^2$ and $1$ with probability $|\\beta|^2$. \n",
    "\n",
    "An alternative expression of such a state is given by \n",
    "$$|\\psi\\rangle=\\cos(\\theta/2)|0\\rangle+e^{i\\phi}\\sin(\\theta/2)|1\\rangle$$"
   ]
  },
  {
   "cell_type": "markdown",
   "id": "d87f135b-8704-45a9-9aeb-6f94f9d98693",
   "metadata": {},
   "source": [
    "The most general one qubit rotation gate $U$ is given by \n",
    "$$U(\\theta,\\phi,\\lambda)=\\begin{pmatrix}\n",
    "\\cos(\\theta/2)&-e^{i\\lambda}\\sin(\\theta/2)\\\\\n",
    "e^{i\\phi}\\sin(\\theta/2)&e^{i(\\phi+\\lambda)}\\cos(\\theta/2). \n",
    "\\end{pmatrix}$$\n",
    "\n",
    "One can confirm that $|\\psi\\rangle$ is generated by $|\\psi\\rangle=U(\\theta,\\phi,\\lambda)|0\\rangle,$ where $\\lambda$ is an arbitrary number. "
   ]
  },
  {
   "cell_type": "markdown",
   "id": "43185359-6263-410b-b56a-a0a664323a9b",
   "metadata": {},
   "source": [
    "In Qiskit, a general $U(\\theta,\\phi,\\lambda)$ gate can be called by \"$u(\\theta,\\phi,\\lambda)$\". The following is an example. For more detals, see <a><a href=\"https://docs.quantum.ibm.com/api/qiskit/qiskit.circuit.library.UGate\">the Documentation</a>. "
   ]
  },
  {
   "cell_type": "code",
   "execution_count": 17,
   "id": "0881308c-2d8c-44f6-8f40-27d34c079d80",
   "metadata": {},
   "outputs": [
    {
     "data": {
      "image/png": "[encoded data removed]",
      "text/plain": [
       "<Figure size 203.885x200.667 with 1 Axes>"
      ]
     },
     "execution_count": 17,
     "metadata": {},
     "output_type": "execute_result"
    }
   ],
   "source": [
    "from math import pi\n",
    "\n",
    "n_qubit = 1\n",
    "qr2 = QuantumRegister(n_qubit)\n",
    "cr2 = ClassicalRegister(n_qubit) #classical register to store resulting bits\n",
    "qc2 = QuantumCircuit(qr2,cr2) #quantum circuit with quantum and classical registers\n",
    "\n",
    "qc2.u(pi,pi/2,0,qr2) # U(\\theta,\\phi,\\lambda)\n",
    "qc2.draw()\n",
    "\n",
    "qc2.draw('mpl')"
   ]
  },
  {
   "cell_type": "markdown",
   "id": "05161bab-23a8-4c18-8d65-7e4e015a67fd",
   "metadata": {},
   "source": [
    "<a id=\"exercise-2\"></a>\n",
    "## Exercise 2\n",
    "What is an operator $U$ that generates the following state?: \n",
    "$$\\frac{|0\\rangle-i|1\\rangle}{\\sqrt{2}}=U|0\\rangle$$ \n",
    "\n",
    "Implement your operator (construct the circuit) and plot a histogram. \n",
    "\n",
    "Hint: There are two ways: use a single unitary operator $u(\\theta,\\phi,\\lambda)$ or combine two operators. For example,\n",
    "use an Hadamard operator $H$ and phase rotation $P(\\theta)=\\begin{pmatrix}\n",
    "1&0\\\\\n",
    "0&e^{i\\theta}\n",
    "\\end{pmatrix}$. Also note the formula $e^{i\\theta}=\\cos\\theta+i\\sin\\theta.$"
   ]
  },
  {
   "cell_type": "code",
   "execution_count": null,
   "id": "fa5e48b5-2cf8-482e-ae7c-81269c1b3c84",
   "metadata": {},
   "outputs": [],
   "source": []
  },
  {
   "cell_type": "markdown",
   "id": "0de1eec5-6a79-4d37-93ab-75af41c5b9ae",
   "metadata": {},
   "source": [
    "<a id=\"tensor\"></a>\n",
    "# Tensor products"
   ]
  },
  {
   "cell_type": "markdown",
   "id": "ab8dda12-b87a-4a15-b94f-006dbc824725",
   "metadata": {},
   "source": [
    "Here we learn quantum operations to two qubits. \n",
    "It is strightforward to work with multiple qubits, by addding qubits to a circuit. \n",
    "The following circuit cretaes an tensor product of two $|0\\rangle$s, which is commonly written as $|00\\rangle$ or $|0\\rangle\\otimes|0\\rangle$. "
   ]
  },
  {
   "cell_type": "code",
   "execution_count": 18,
   "id": "c8dbfd79-1e43-4694-a9d9-4a4d7de25307",
   "metadata": {},
   "outputs": [
    {
     "data": {
      "image/png": "[encoded data removed]",
      "text/plain": [
       "<Figure size 180.31x284.278 with 1 Axes>"
      ]
     },
     "execution_count": 18,
     "metadata": {},
     "output_type": "execute_result"
    }
   ],
   "source": [
    "n_qubit = 2\n",
    "qr3 = QuantumRegister(n_qubit)\n",
    "cr3 = ClassicalRegister(n_qubit) #classical register to store resulting bits\n",
    "qc3 = QuantumCircuit(qr3,cr3) #quantum circuit with quantum and classical registers\n",
    "\n",
    "qc3.draw('mpl')"
   ]
  },
  {
   "cell_type": "markdown",
   "id": "4afc63b3-e9a4-491e-85a0-1080b459b2dc",
   "metadata": {},
   "source": [
    "To describe two-qubit states more mathematically, here we introduce the concept of <b>Tensor product</b> of two states $|u\\rangle,|v\\rangle$, which is written as $|uv\\rangle$ or $|u\\rangle\\otimes|v\\rangle$ \n",
    "\n",
    "\n",
    "As a basic example, we only work with a tensor product two one-qubits. The vector repreentation of 0 and 1 states are given as follows: \n",
    "$$|0\\rangle=\\begin{pmatrix}1\\\\0\\end{pmatrix},~|1\\rangle=\\begin{pmatrix}0\\\\1\\end{pmatrix}.$$\n",
    "\n",
    "In general, a two-qubit state is expressed by a liniear combination of $|00\\rangle,|01\\rangle,|10\\rangle,|11\\rangle$:\n",
    "$$|\\psi\\rangle=a_{00}|00\\rangle+a_{01}|01\\rangle+a_{10}|10\\rangle+a_{11}|11\\rangle,$$\n",
    "where $a_{ij}$ are complex numbers such that $\\sum_{ij}|a_{ij}|^2=1$.  \n",
    "\n",
    "Let us accept the following expressions of the tensor products: \n",
    "$$|00\\rangle=\\begin{pmatrix}1\\\\0\\\\0\\\\0\\end{pmatrix},|01\\rangle=\\begin{pmatrix}0\\\\1\\\\0\\\\0\\end{pmatrix},|10\\rangle=\\begin{pmatrix}0\\\\0\\\\1\\\\0\\end{pmatrix},|11\\rangle=\\begin{pmatrix}0\\\\0\\\\0\\\\1\\end{pmatrix}$$\n",
    "\n",
    "Then any two-qubit state $|\\psi\\rangle$ can be represented by a four-dimensional vector: \n",
    "$$|\\psi\\rangle=a_{00}|00\\rangle+a_{01}|01\\rangle+a_{10}|10\\rangle+a_{11}|11\\rangle=\\begin{pmatrix}a_{00}\\\\a_{01}\\\\a_{10}\\\\a_{11}\\end{pmatrix}$$\n",
    "\n"
   ]
  },
  {
   "cell_type": "markdown",
   "id": "a195049b-429d-4dc2-a4ed-cfe2866d5ec2",
   "metadata": {},
   "source": [
    "<a id=\"exercise-3\"></a>\n",
    "## Exercise 3"
   ]
  },
  {
   "cell_type": "markdown",
   "id": "3f4dac19-08c5-4b9e-b7c4-c32207b0b710",
   "metadata": {},
   "source": [
    "Write down the following state as a four-dimensional vector: \n",
    "$$|\\Phi^+\\rangle=\\frac{|00\\rangle+|11\\rangle}{\\sqrt{2}}$$"
   ]
  },
  {
   "cell_type": "markdown",
   "id": "89fca6f9-8232-4e0e-beee-accf199206c2",
   "metadata": {},
   "source": [
    "Your Answer: "
   ]
  },
  {
   "cell_type": "code",
   "execution_count": null,
   "id": "e4ea0c55-94ce-4f89-82b9-be30b94e2aeb",
   "metadata": {},
   "outputs": [],
   "source": []
  },
  {
   "cell_type": "markdown",
   "id": "c355c1b5-f439-400c-8dfe-b68dbea70d1f",
   "metadata": {},
   "source": [
    "Similar to tensor products of vectors, we can also consider tensor products or matrices. Let $A=(a_{ij})$ and $B=(b_{ij})$ be two-by-two matrices: \n",
    "$$A=\\begin{pmatrix}a_{00}&a_{01}\\\\a_{10}&a_{11}\\end{pmatrix},~B=\\begin{pmatrix}b_{00}&b_{01}\\\\b_{10}&b_{11}\\end{pmatrix}$$\n",
    "\n",
    "Their tensor product $A\\otimes B$ is a four-by-four matrix\n",
    "$$A\\otimes B=\\begin{pmatrix}a_{00}B&a_{01}B\\\\a_{10}B&a_{11}B\\end{pmatrix}=\\begin{pmatrix}a_{00}b_{00}&a_{00}b_{01}& a_{01}b_{00}&a_{01}b_{01}\\\\a_{00}b_{10}&a_{00}b_{11}& a_{01}b_{10}&a_{01}b_{11}\\\\a_{10}b_{00}&a_{10}b_{01}& a_{11}b_{00}&a_{11}b_{01}\\\\a_{10}b_{10}&a_{10}b_{11}& a_{11}b_{10}&a_{11}b_{11} \\end{pmatrix}$$\n",
    "\n",
    "It is straightforward to extend this to higher dimensional matices. "
   ]
  },
  {
   "cell_type": "markdown",
   "id": "4e752fa1-851b-4cd6-91b9-5afc21acbd83",
   "metadata": {},
   "source": [
    "<a id=\"gate_operation-2\"></a>\n",
    "# Gate operations to two qubits."
   ]
  },
  {
   "cell_type": "markdown",
   "id": "6ace7585-d65b-4ec4-a731-831c7fb63243",
   "metadata": {},
   "source": [
    "<a id=\"cnot\"></a>\n",
    "The goal of the following part is to undestand what makes two qubit operations fundamentally different from simply adding qubits. \n",
    "The following is one of the most important operators, called <b>CNOT gate</b>,\n",
    "\n",
    "$$CNOT=|0\\rangle\\langle0|\\otimes I+|1\\rangle\\langle1|\\otimes X=\\begin{pmatrix}1&0&0&0\\\\0&1&0&0\\\\0&0&0&1\\\\0&0&1&0 \\end{pmatrix},$$\n",
    "which acts on the second qubit (target qubit) when the first qubit (control) is $|1\\rangle$. The table below shows the correspondence between inputs and the outputs.  \n",
    "\n",
    "<table>\n",
    "    <tr>\n",
    "        <th> Input states </th>\n",
    "        <th> $|00\\rangle$ </th>\n",
    "        <th> $|01\\rangle$ </th>\n",
    "        <th> $|10\\rangle$ </th> \n",
    "        <th> $|11\\rangle$ </th> \n",
    "    </tr>\n",
    "    <tr>\n",
    "        <th> Output states </th>\n",
    "        <td>$|00\\rangle$</td>\n",
    "        <td>$|01\\rangle$</td>\n",
    "        <td>$|11\\rangle$</td>\n",
    "        <td>$|10\\rangle$</td>\n",
    "    </tr>\n",
    "</table>"
   ]
  },
  {
   "cell_type": "markdown",
   "id": "8de5d022-d805-4c13-965c-2b1ce67a9ae7",
   "metadata": {},
   "source": [
    "A CNOT gate can be implemented by putting \"<b>cx(control,target)</b>\" and expressed by the following circuit"
   ]
  },
  {
   "cell_type": "code",
   "execution_count": 19,
   "id": "d7e37a8b-46db-43bd-9309-b5c29eb93e5a",
   "metadata": {},
   "outputs": [
    {
     "data": {
      "image/png": "[encoded data removed]",
      "text/plain": [
       "<Figure size 222.116x284.278 with 1 Axes>"
      ]
     },
     "execution_count": 19,
     "metadata": {},
     "output_type": "execute_result"
    }
   ],
   "source": [
    "n_qubit = 2\n",
    "qr4 = QuantumRegister(n_qubit)\n",
    "cr4 = ClassicalRegister(n_qubit) #classical register to store resulting bits\n",
    "qc4 = QuantumCircuit(qr4,cr4) #quantum circuit with quantum and classical registers\n",
    "qc4.cx(qr4[0],qr4[1])\n",
    "\n",
    "qc4.draw('mpl')"
   ]
  },
  {
   "cell_type": "markdown",
   "id": "9f1f45ab-9799-4dfc-b9d2-ff4cdadbfb98",
   "metadata": {},
   "source": [
    "Why is CNOT important? To answer this question, we introduce the concept of <b>Entanglement</b>, which distinguishes quantum states from classical states. \n",
    "\n",
    "A two-qubit state $|\\psi\\rangle$ is called <b>Pure</b> if it can be written as a tensor product of two one-qubits: \n",
    "$$|\\psi\\rangle=|\\varphi\\rangle\\otimes|\\varphi_2\\rangle,$$\n",
    "where $|\\varphi_{1}\\rangle$ and $|\\varphi_{2}\\rangle$ are one-qubits. For example, $|00\\rangle$ is a pure state. "
   ]
  },
  {
   "cell_type": "markdown",
   "id": "2daf06c9-8ceb-4bb2-9d7c-b350b1839518",
   "metadata": {},
   "source": [
    "<a id=\"bell\"></a>\n",
    "A two-qubit state $|\\psi\\rangle$ is called <b>Entangled</b> if it is not pure. Here we give standard examples of entangled states, calle <b>Bell states</b>: \n",
    "$$|\\Phi^+\\rangle=\\frac{|00\\rangle+|11\\rangle}{\\sqrt{2}},|\\Phi^-\\rangle=\\frac{|00\\rangle-|11\\rangle}{\\sqrt{2}},|\\Psi^+\\rangle=\\frac{|01\\rangle+|01\\rangle}{\\sqrt{2}},|\\Psi^-\\rangle=\\frac{|01\\rangle-|01\\rangle}{\\sqrt{2}}$$\n",
    "\n",
    "If you have completed <b>[Exercise 3](#exercise-3)</b>, you are already familiar with them. "
   ]
  },
  {
   "cell_type": "markdown",
   "id": "d4d0910a-d94a-46eb-bac3-64086b8414da",
   "metadata": {},
   "source": [
    "Here we learn how implement $|\\Phi^+\\rangle$ on a quantum circuit. The initial state is $|00\\rangle$ as usual.  \n",
    "We first apply an <b>[Hadamard gate](#hadamard)</b> to the first qubit. Then we get the following state\n",
    "$$(H|0\\rangle)\\otimes|0\\rangle=\\frac{|0\\rangle+|1\\rangle}{\\sqrt{2}}\\otimes|0\\rangle=\\frac{|00\\rangle+|10\\rangle}{\\sqrt{2}}$$\n",
    "\n",
    "This state is already very close to $|\\Phi^+\\rangle$! The remaining thing is only to flip the second qubit from $|10\\rangle$ to $|11\\rangle$ while keeping the other part unchanged. For this, let's get back to the definition of <b>[CNOT](#cnot)</b>:\n",
    "\n",
    "$$|\\Phi^+\\rangle=CNOT\\left(\\frac{|00\\rangle+|10\\rangle}{\\sqrt{2}}\\right).$$\n",
    "\n",
    "In conclusion, one of the Bell states $|\\Phi^+\\rangle$ can be implemented by the following circuit. "
   ]
  },
  {
   "cell_type": "code",
   "execution_count": 20,
   "id": "b21e5fcc-fdb8-44bf-b2fc-4e0ac7ca91dc",
   "metadata": {},
   "outputs": [
    {
     "data": {
      "image/png": "[encoded data removed]",
      "text/plain": [
       "<Figure size 305.525x284.278 with 1 Axes>"
      ]
     },
     "execution_count": 20,
     "metadata": {},
     "output_type": "execute_result"
    }
   ],
   "source": [
    "n_qubit = 2\n",
    "qr5 = QuantumRegister(n_qubit)\n",
    "cr5 = ClassicalRegister(n_qubit) #classical register to store resulting bits\n",
    "qc5 = QuantumCircuit(qr5,cr5) #quantum circuit with quantum and classical registers\n",
    "\n",
    "qc5.h(qr5[0])\n",
    "qc5.cx(qr5[0],qr5[1])\n",
    "\n",
    "qc5.draw('mpl')"
   ]
  },
  {
   "cell_type": "markdown",
   "id": "fe63c806-6ba0-4f11-b4e3-6abec335273f",
   "metadata": {},
   "source": [
    "<a id=\"exercise-4\"></a>\n",
    "## Exercise 4"
   ]
  },
  {
   "cell_type": "markdown",
   "id": "cf0ef2b8-49ba-49dd-8de9-718b9db14b5f",
   "metadata": {},
   "source": [
    "Draw the quantum circuits of the other <b>[Bell states](#bell)</b> $|\\Phi^-\\rangle,|\\Psi^+\\rangle,|\\Psi^-\\rangle$"
   ]
  },
  {
   "cell_type": "code",
   "execution_count": null,
   "id": "d7def903-20d1-41cf-a03a-04a6b38d1ee3",
   "metadata": {},
   "outputs": [],
   "source": []
  }
 ],
 "metadata": {
  "kernelspec": {
   "display_name": "Python 3 (ipykernel)",
   "language": "python",
   "name": "python3"
  },
  "language_info": {
   "codemirror_mode": {
    "name": "ipython",
    "version": 3
   },
   "file_extension": ".py",
   "mimetype": "text/x-python",
   "name": "python",
   "nbconvert_exporter": "python",
   "pygments_lexer": "ipython3",
   "version": "3.12.5"
  }
 },
 "nbformat": 4,
 "nbformat_minor": 5
}
